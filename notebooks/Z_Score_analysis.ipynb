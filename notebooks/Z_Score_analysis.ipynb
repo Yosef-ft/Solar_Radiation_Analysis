{
 "cells": [
  {
   "cell_type": "markdown",
   "metadata": {},
   "source": [
    "## Solar Radiation Analysis"
   ]
  },
  {
   "cell_type": "markdown",
   "metadata": {},
   "source": [
    "#### IMPORTING IMPORTANT LIBRARIES"
   ]
  },
  {
   "cell_type": "code",
   "execution_count": 1,
   "metadata": {},
   "outputs": [],
   "source": [
    "import datetime\n",
    "\n",
    "import pandas as pd\n",
    "import matplotlib.pyplot as plt\n",
    "import seaborn as sns\n",
    "import numpy as np\n",
    "plt.style.use('dark_background')"
   ]
  },
  {
   "cell_type": "code",
   "execution_count": 2,
   "metadata": {},
   "outputs": [],
   "source": [
    "import sys\n",
    "import os\n",
    "\n",
    "sys.path.append(os.path.abspath('../scripts'))\n",
    "\n",
    "from utils import load_dataset, z_score"
   ]
  },
  {
   "cell_type": "markdown",
   "metadata": {},
   "source": [
    "### EXPLORATORY DATA ANALYSIS"
   ]
  },
  {
   "cell_type": "markdown",
   "metadata": {},
   "source": [
    "#### IMPORTING DATASET"
   ]
  },
  {
   "cell_type": "code",
   "execution_count": 4,
   "metadata": {},
   "outputs": [],
   "source": [
    "benin, sierra, togo = load_dataset()\n",
    "\n",
    "# To drop column `Comments`\n",
    "benin.dropna(inplace=True, axis=1)\n",
    "sierra.dropna(inplace=True, axis=1)\n",
    "togo.dropna(inplace=True, axis=1)"
   ]
  },
  {
   "cell_type": "markdown",
   "metadata": {},
   "source": [
    "#### Z-score analysis\n"
   ]
  },
  {
   "cell_type": "code",
   "execution_count": 12,
   "metadata": {},
   "outputs": [
    {
     "name": "stdout",
     "output_type": "stream",
     "text": [
      "The total percentage of outliers from the Benin-malanville dataset, which contains 525,600 rows, is:  3.39 %\n",
      "The total percentage of outliers from sierraleone-bumbuna dataset, which contains 525,600 rows, is:   5.89 %\n",
      "The total percentage of outliers from Togo-dapaong dataset, which contains 525,600 rows, is:          3.84 %\n"
     ]
    }
   ],
   "source": [
    "print(f'The total percentage of outliers from the Benin-malanville dataset, which contains 525,600 rows, is:  {z_score(benin)} %')\n",
    "print(f'The total percentage of outliers from sierraleone-bumbuna dataset, which contains 525,600 rows, is:   {z_score(sierra)} %')\n",
    "print(f'The total percentage of outliers from Togo-dapaong dataset, which contains 525,600 rows, is:          {z_score(togo)} %')"
   ]
  }
 ],
 "metadata": {
  "kernelspec": {
   "display_name": "Week0_env",
   "language": "python",
   "name": "python3"
  },
  "language_info": {
   "codemirror_mode": {
    "name": "ipython",
    "version": 3
   },
   "file_extension": ".py",
   "mimetype": "text/x-python",
   "name": "python",
   "nbconvert_exporter": "python",
   "pygments_lexer": "ipython3",
   "version": "3.12.0"
  }
 },
 "nbformat": 4,
 "nbformat_minor": 2
}
