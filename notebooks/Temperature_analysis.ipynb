{
 "cells": [
  {
   "cell_type": "markdown",
   "metadata": {},
   "source": [
    "## Solar Radiation Analysis"
   ]
  },
  {
   "cell_type": "markdown",
   "metadata": {},
   "source": [
    "#### IMPORTING IMPORTANT LIBRARIES"
   ]
  },
  {
   "cell_type": "code",
   "execution_count": 1,
   "metadata": {},
   "outputs": [],
   "source": [
    "import datetime\n",
    "\n",
    "import pandas as pd\n",
    "import matplotlib.pyplot as plt\n",
    "import seaborn as sns\n",
    "import numpy as np\n",
    "plt.style.use('dark_background')"
   ]
  },
  {
   "cell_type": "code",
   "execution_count": 2,
   "metadata": {},
   "outputs": [],
   "source": [
    "import sys\n",
    "import os\n",
    "\n",
    "sys.path.append(os.path.abspath('../scripts'))\n",
    "\n",
    "from utils import load_dataset\n",
    "from utils import RH_effech_on_temp_solar"
   ]
  },
  {
   "cell_type": "markdown",
   "metadata": {},
   "source": [
    "### EXPLORATORY DATA ANALYSIS"
   ]
  },
  {
   "cell_type": "markdown",
   "metadata": {},
   "source": [
    "#### IMPORTING DATASET"
   ]
  },
  {
   "cell_type": "code",
   "execution_count": 3,
   "metadata": {},
   "outputs": [],
   "source": [
    "benin, sierra, togo = load_dataset()"
   ]
  },
  {
   "cell_type": "markdown",
   "metadata": {},
   "source": [
    "#### Temperature Analysis"
   ]
  },
  {
   "cell_type": "code",
   "execution_count": 4,
   "metadata": {},
   "outputs": [
    {
     "name": "stdout",
     "output_type": "stream",
     "text": [
      "RH       1.000000\n",
      "Tamb    -0.414842\n",
      "TModA   -0.343841\n",
      "GHI     -0.360029\n",
      "DNI     -0.373475\n",
      "DHI     -0.285018\n",
      "Name: RH, dtype: float64\n"
     ]
    }
   ],
   "source": [
    "print(RH_effech_on_temp_solar(benin))"
   ]
  },
  {
   "cell_type": "code",
   "execution_count": 5,
   "metadata": {},
   "outputs": [
    {
     "name": "stdout",
     "output_type": "stream",
     "text": [
      "RH       1.000000\n",
      "Tamb    -0.791937\n",
      "TModA   -0.688057\n",
      "GHI     -0.546677\n",
      "DNI     -0.548800\n",
      "DHI     -0.431910\n",
      "Name: RH, dtype: float64\n"
     ]
    }
   ],
   "source": [
    "print(RH_effech_on_temp_solar(sierra))"
   ]
  },
  {
   "cell_type": "code",
   "execution_count": 6,
   "metadata": {},
   "outputs": [
    {
     "name": "stdout",
     "output_type": "stream",
     "text": [
      "RH       1.000000\n",
      "Tamb    -0.400410\n",
      "TModA   -0.244825\n",
      "GHI     -0.258077\n",
      "DNI     -0.327887\n",
      "DHI     -0.155016\n",
      "Name: RH, dtype: float64\n"
     ]
    }
   ],
   "source": [
    "print(RH_effech_on_temp_solar(togo))"
   ]
  }
 ],
 "metadata": {
  "kernelspec": {
   "display_name": "Week0_env",
   "language": "python",
   "name": "python3"
  },
  "language_info": {
   "codemirror_mode": {
    "name": "ipython",
    "version": 3
   },
   "file_extension": ".py",
   "mimetype": "text/x-python",
   "name": "python",
   "nbconvert_exporter": "python",
   "pygments_lexer": "ipython3",
   "version": "3.12.0"
  }
 },
 "nbformat": 4,
 "nbformat_minor": 2
}
